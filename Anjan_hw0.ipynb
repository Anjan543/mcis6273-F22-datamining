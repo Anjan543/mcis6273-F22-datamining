{
 "cells": [
  {
   "cell_type": "code",
   "execution_count": null,
   "metadata": {},
   "outputs": [],
   "source": []
  },
  {
   "cell_type": "markdown",
   "metadata": {},
   "source": [
    "### Assignment Zero\n",
    "### Zotera UserID : Anjankumar\n",
    "### Zotera Registered Email ID : anjan.kanamarlapudi@gmail.com"
   ]
  },
  {
   "cell_type": "markdown",
   "metadata": {},
   "source": [
    "#### Q.1  List 3 things that you learned from this podcast?\n",
    "\n",
    "Overall the Podcast Talk Python was so much informative. These are the list of things I have learnt from the podcast :\n",
    "\n",
    "* The name jupyter was created from the combination of Julia , Python and R but I think python has a dominant place when it comes to data science field. \n",
    "\n",
    "* Jupyter notebook gives the user freedom to run the code in 8th cell first and again run the 2nd cell. There is such a freedom of serquence while developing a script is very useful\n",
    "\n",
    "* Jupyter notebook can be used by any kind of user. It has proven its usefulness in vast fields of applications. Be it AI, Biology, Cognitiv psychology, All fields' practitioners can utilize the jypter notebook "
   ]
  },
  {
   "cell_type": "markdown",
   "metadata": {},
   "source": [
    "### Q. 2 What is your reaction to the podcast? Pick at least one point Adam brought up in the interview that you agree with and list your reason why? \n",
    "\n",
    "The podcast was awesome. Any person who's new to the jupter notebook and github will get to know the importance, applications and utility of these tools after listening to this podcast.\n",
    "Adam talk about the image Github has created in the users community. I agree with Adam here. He said there are over a million notebooks on github and most of them are in python. This itself says how important github, jupyter and python are to the world of Data science\n"
   ]
  },
  {
   "cell_type": "markdown",
   "metadata": {},
   "source": [
    "### Q. 3  After listening to the podcast , do you think you are more interested or less interested in learning from Jupyter notebooks on Github?\n",
    "\n",
    "    I am exited to work on Jupyter notebook on Github. I would love to contribute the work done in the course of Data mining to be published via Github. This will enhance the professional profile as well as I can contribute my part into the knowledge source which Github  has become."
   ]
  },
  {
   "cell_type": "code",
   "execution_count": null,
   "metadata": {},
   "outputs": [],
   "source": []
  },
  {
   "cell_type": "code",
   "execution_count": null,
   "metadata": {},
   "outputs": [],
   "source": []
  }
 ],
 "metadata": {
  "kernelspec": {
   "display_name": "Python 3.10.5 64-bit",
   "language": "python",
   "name": "python3"
  },
  "language_info": {
   "codemirror_mode": {
    "name": "ipython",
    "version": 3
   },
   "file_extension": ".py",
   "mimetype": "text/x-python",
   "name": "python",
   "nbconvert_exporter": "python",
   "pygments_lexer": "ipython3",
   "version": "3.10.5"
  },
  "vscode": {
   "interpreter": {
    "hash": "aee8b7b246df8f9039afb4144a1f6fd8d2ca17a180786b69acc140d282b71a49"
   }
  }
 },
 "nbformat": 4,
 "nbformat_minor": 2
}
